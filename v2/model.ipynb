{
 "cells": [
  {
   "cell_type": "code",
   "execution_count": 7,
   "metadata": {},
   "outputs": [],
   "source": [
    "from torch.utils.data import DataLoader\n",
    "from torchvision import datasets, transforms"
   ]
  },
  {
   "cell_type": "code",
   "execution_count": 17,
   "metadata": {},
   "outputs": [],
   "source": [
    "DATA                    = \"/home/groups/comp3710/OASIS\"  # Path to the dataset  # Use GPU if available, otherwise use CPU\n",
    "LOCAL                   = \"/Users/4vir4l/dev/data/keras_png_slices_data\"\n",
    "EPOCHS                  = 300 # Number of training epochs\n",
    "LEARNING_RATE           = 1e-3  # Learning rate for optimization\n",
    "BATCH_SIZE              = 32  # Batch size for training\n",
    "LOG_RES                 = 7  # Logarithmic resolution used for 128*128 images\n",
    "Z_DIM                   = 256  # Dimension of the latent space\n",
    "W_DIM                   = 256  # Dimension of the mapping network output\n",
    "LAMBDA_GP               = 10  # Weight for the gradient penalty term"
   ]
  },
  {
   "cell_type": "code",
   "execution_count": 32,
   "metadata": {},
   "outputs": [],
   "source": [
    "def get_data(data, log_res, batchSize):\n",
    "\n",
    "    transform = transforms.Compose(\n",
    "        [   transforms.Resize(size=(2**log_res, 2**log_res), interpolation=transforms.InterpolationMode.BICUBIC),\n",
    "            transforms.ToTensor(),\n",
    "            transforms.RandomHorizontalFlip(p=0.5),\n",
    "            transforms.Normalize(mean=[0.5], std=[0.5])\n",
    "            ]\n",
    "        )\n",
    "\n",
    "    dataset = datasets.ImageFolder(root=data, transform=transform)\n",
    "\n",
    "    loader = DataLoader(dataset, batchSize, shuffle=True)\n",
    "\n",
    "    return loader"
   ]
  },
  {
   "cell_type": "code",
   "execution_count": 33,
   "metadata": {},
   "outputs": [
    {
     "data": {
      "text/plain": [
       "<torch.utils.data.dataloader.DataLoader at 0x1685e6080>"
      ]
     },
     "execution_count": 33,
     "metadata": {},
     "output_type": "execute_result"
    }
   ],
   "source": [
    "get_data(LOCAL, LOG_RES, BATCH_SIZE)"
   ]
  },
  {
   "cell_type": "code",
   "execution_count": null,
   "metadata": {},
   "outputs": [],
   "source": []
  }
 ],
 "metadata": {
  "kernelspec": {
   "display_name": "conda-torch",
   "language": "python",
   "name": "python3"
  },
  "language_info": {
   "codemirror_mode": {
    "name": "ipython",
    "version": 3
   },
   "file_extension": ".py",
   "mimetype": "text/x-python",
   "name": "python",
   "nbconvert_exporter": "python",
   "pygments_lexer": "ipython3",
   "version": "3.10.12"
  },
  "orig_nbformat": 4
 },
 "nbformat": 4,
 "nbformat_minor": 2
}
